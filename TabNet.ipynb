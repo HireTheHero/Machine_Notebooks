{
  "nbformat": 4,
  "nbformat_minor": 0,
  "metadata": {
    "colab": {
      "name": "TabNet.ipynb",
      "provenance": [],
      "collapsed_sections": [],
      "authorship_tag": "ABX9TyMu8vES1VEpN14w74Gsuk23",
      "include_colab_link": true
    },
    "kernelspec": {
      "name": "python3",
      "display_name": "Python 3"
    },
    "language_info": {
      "name": "python"
    }
  },
  "cells": [
    {
      "cell_type": "markdown",
      "metadata": {
        "id": "view-in-github",
        "colab_type": "text"
      },
      "source": [
        "<a href=\"https://colab.research.google.com/github/WannaGetDSJobInSanFrancisco/Machine_Notebooks/blob/main/TabNet.ipynb\" target=\"_parent\"><img src=\"https://colab.research.google.com/assets/colab-badge.svg\" alt=\"Open In Colab\"/></a>"
      ]
    },
    {
      "cell_type": "code",
      "source": [
        "!pip install -U pytorch-tabnet"
      ],
      "metadata": {
        "colab": {
          "base_uri": "https://localhost:8080/"
        },
        "id": "K3lBCfwXGDFk",
        "outputId": "cdea55d9-5745-4ecc-a20e-2eb84588f9e4"
      },
      "execution_count": 1,
      "outputs": [
        {
          "output_type": "stream",
          "name": "stdout",
          "text": [
            "Collecting pytorch-tabnet\n",
            "  Downloading pytorch_tabnet-3.1.1-py3-none-any.whl (39 kB)\n",
            "Requirement already satisfied: scikit_learn>0.21 in /usr/local/lib/python3.7/dist-packages (from pytorch-tabnet) (1.0.2)\n",
            "Requirement already satisfied: tqdm<5.0,>=4.36 in /usr/local/lib/python3.7/dist-packages (from pytorch-tabnet) (4.64.0)\n",
            "Requirement already satisfied: torch<2.0,>=1.2 in /usr/local/lib/python3.7/dist-packages (from pytorch-tabnet) (1.11.0+cu113)\n",
            "Requirement already satisfied: numpy<2.0,>=1.17 in /usr/local/lib/python3.7/dist-packages (from pytorch-tabnet) (1.21.6)\n",
            "Requirement already satisfied: scipy>1.4 in /usr/local/lib/python3.7/dist-packages (from pytorch-tabnet) (1.4.1)\n",
            "Requirement already satisfied: joblib>=0.11 in /usr/local/lib/python3.7/dist-packages (from scikit_learn>0.21->pytorch-tabnet) (1.1.0)\n",
            "Requirement already satisfied: threadpoolctl>=2.0.0 in /usr/local/lib/python3.7/dist-packages (from scikit_learn>0.21->pytorch-tabnet) (3.1.0)\n",
            "Requirement already satisfied: typing-extensions in /usr/local/lib/python3.7/dist-packages (from torch<2.0,>=1.2->pytorch-tabnet) (4.2.0)\n",
            "Installing collected packages: pytorch-tabnet\n",
            "Successfully installed pytorch-tabnet-3.1.1\n"
          ]
        }
      ]
    },
    {
      "cell_type": "code",
      "execution_count": 2,
      "metadata": {
        "id": "YjqrbY4XGBlh"
      },
      "outputs": [],
      "source": [
        "from pytorch_tabnet.tab_model import TabNetClassifier\n",
        "\n",
        "import torch\n",
        "from sklearn.preprocessing import LabelEncoder\n",
        "from sklearn.metrics import roc_auc_score\n",
        "\n",
        "import pandas as pd\n",
        "import numpy as np\n",
        "np.random.seed(0)\n",
        "\n",
        "\n",
        "import os\n",
        "# import wget\n",
        "from pathlib import Path\n",
        "\n",
        "from matplotlib import pyplot as plt\n",
        "%matplotlib inline"
      ]
    },
    {
      "cell_type": "markdown",
      "source": [
        "# Download census-income dataset"
      ],
      "metadata": {
        "id": "-PMz_JA3KoNm"
      }
    },
    {
      "cell_type": "code",
      "source": [
        "%mkdir data\n",
        "!wget https://archive.ics.uci.edu/ml/machine-learning-databases/adult/adult.data -O data/census-income.csv"
      ],
      "metadata": {
        "colab": {
          "base_uri": "https://localhost:8080/"
        },
        "id": "pdBeY8TsHQpb",
        "outputId": "d81b256d-6bda-41ed-9b33-da18826e7b78"
      },
      "execution_count": 6,
      "outputs": [
        {
          "output_type": "stream",
          "name": "stdout",
          "text": [
            "--2022-05-22 16:19:20--  https://archive.ics.uci.edu/ml/machine-learning-databases/adult/adult.data\n",
            "Resolving archive.ics.uci.edu (archive.ics.uci.edu)... 128.195.10.252\n",
            "Connecting to archive.ics.uci.edu (archive.ics.uci.edu)|128.195.10.252|:443... connected.\n",
            "HTTP request sent, awaiting response... 200 OK\n",
            "Length: 3974305 (3.8M) [application/x-httpd-php]\n",
            "Saving to: ‘data/census-income.csv’\n",
            "\n",
            "data/census-income. 100%[===================>]   3.79M  16.4MB/s    in 0.2s    \n",
            "\n",
            "2022-05-22 16:19:21 (16.4 MB/s) - ‘data/census-income.csv’ saved [3974305/3974305]\n",
            "\n"
          ]
        }
      ]
    },
    {
      "cell_type": "markdown",
      "source": [
        "# Load data and split"
      ],
      "metadata": {
        "id": "i8ZVFIzWKwFR"
      }
    },
    {
      "cell_type": "code",
      "source": [
        "out = \"data/census-income.csv\""
      ],
      "metadata": {
        "id": "Az8pwXnaK0bj"
      },
      "execution_count": 7,
      "outputs": []
    },
    {
      "cell_type": "code",
      "source": [
        "train = pd.read_csv(out)\n",
        "target = ' <=50K'\n",
        "if \"Set\" not in train.columns:\n",
        "    train[\"Set\"] = np.random.choice([\"train\", \"valid\", \"test\"], p =[.8, .1, .1], size=(train.shape[0],))\n",
        "\n",
        "train_indices = train[train.Set==\"train\"].index\n",
        "valid_indices = train[train.Set==\"valid\"].index\n",
        "test_indices = train[train.Set==\"test\"].index"
      ],
      "metadata": {
        "id": "8MSXVXB1HJqA"
      },
      "execution_count": 8,
      "outputs": []
    },
    {
      "cell_type": "markdown",
      "source": [
        "# Simple preprocessing\n",
        "- Label encode categorical features and fill empty cells."
      ],
      "metadata": {
        "id": "WXDAdGjnK6m_"
      }
    },
    {
      "cell_type": "code",
      "source": [
        "nunique = train.nunique()\n",
        "types = train.dtypes\n",
        "\n",
        "categorical_columns = []\n",
        "categorical_dims =  {}\n",
        "for col in train.columns:\n",
        "    if types[col] == 'object' or nunique[col] < 200:\n",
        "        print(col, train[col].nunique())\n",
        "        l_enc = LabelEncoder()\n",
        "        train[col] = train[col].fillna(\"VV_likely\")\n",
        "        train[col] = l_enc.fit_transform(train[col].values)\n",
        "        categorical_columns.append(col)\n",
        "        categorical_dims[col] = len(l_enc.classes_)\n",
        "    else:\n",
        "        train.fillna(train.loc[train_indices, col].mean(), inplace=True)"
      ],
      "metadata": {
        "colab": {
          "base_uri": "https://localhost:8080/"
        },
        "id": "GvmSYpqxK72G",
        "outputId": "53de73c6-8438-42be-a30d-9842d78de2ad"
      },
      "execution_count": 9,
      "outputs": [
        {
          "output_type": "stream",
          "name": "stdout",
          "text": [
            "39 73\n",
            " State-gov 9\n",
            " Bachelors 16\n",
            " 13 16\n",
            " Never-married 7\n",
            " Adm-clerical 15\n",
            " Not-in-family 6\n",
            " White 5\n",
            " Male 2\n",
            " 2174 119\n",
            " 0 92\n",
            " 40 94\n",
            " United-States 42\n",
            " <=50K 2\n",
            "Set 3\n"
          ]
        }
      ]
    },
    {
      "cell_type": "code",
      "source": [
        "# check that pipeline accepts strings\n",
        "train.loc[train[target]==0, target] = \"wealthy\"\n",
        "train.loc[train[target]==1, target] = \"not_wealthy\""
      ],
      "metadata": {
        "id": "ySAOaEd5LCG1"
      },
      "execution_count": 10,
      "outputs": []
    },
    {
      "cell_type": "markdown",
      "source": [
        "# Define categorical features for categorical embeddings"
      ],
      "metadata": {
        "id": "89YlDzEgLFHg"
      }
    },
    {
      "cell_type": "code",
      "source": [
        "unused_feat = ['Set']\n",
        "\n",
        "features = [ col for col in train.columns if col not in unused_feat+[target]] \n",
        "\n",
        "cat_idxs = [ i for i, f in enumerate(features) if f in categorical_columns]\n",
        "\n",
        "cat_dims = [ categorical_dims[f] for i, f in enumerate(features) if f in categorical_columns]"
      ],
      "metadata": {
        "id": "ho8-DlhYLFkj"
      },
      "execution_count": 11,
      "outputs": []
    },
    {
      "cell_type": "markdown",
      "source": [
        "# Network parameters"
      ],
      "metadata": {
        "id": "5Q1BMyDvLMPP"
      }
    },
    {
      "cell_type": "code",
      "source": [
        "tabnet_params = {\"cat_idxs\":cat_idxs,\n",
        "                 \"cat_dims\":cat_dims,\n",
        "                 \"cat_emb_dim\":1,\n",
        "                 \"optimizer_fn\":torch.optim.Adam,\n",
        "                 \"optimizer_params\":dict(lr=2e-2),\n",
        "                 \"scheduler_params\":{\"step_size\":50, # how to use learning rate scheduler\n",
        "                                 \"gamma\":0.9},\n",
        "                 \"scheduler_fn\":torch.optim.lr_scheduler.StepLR,\n",
        "                 \"mask_type\":'entmax' # \"sparsemax\"\n",
        "                }\n",
        "\n",
        "clf = TabNetClassifier(**tabnet_params\n",
        "                      )"
      ],
      "metadata": {
        "colab": {
          "base_uri": "https://localhost:8080/"
        },
        "id": "OJnkahNFLHjm",
        "outputId": "68e90ed1-50cb-471f-a28b-be7002d7579c"
      },
      "execution_count": 32,
      "outputs": [
        {
          "output_type": "stream",
          "name": "stdout",
          "text": [
            "Device used : cpu\n"
          ]
        }
      ]
    },
    {
      "cell_type": "markdown",
      "source": [
        "# Training"
      ],
      "metadata": {
        "id": "_PVVtJs-LT8D"
      }
    },
    {
      "cell_type": "code",
      "source": [
        "X_train = train[features].values[train_indices]\n",
        "y_train = train[target].values[train_indices]\n",
        "\n",
        "X_valid = train[features].values[valid_indices]\n",
        "y_valid = train[target].values[valid_indices]\n",
        "\n",
        "X_test = train[features].values[test_indices]\n",
        "y_test = train[target].values[test_indices]"
      ],
      "metadata": {
        "id": "eQqdtstiLVBk"
      },
      "execution_count": 19,
      "outputs": []
    },
    {
      "cell_type": "code",
      "source": [
        "max_epochs = 100 if not os.getenv(\"CI\", False) else 2"
      ],
      "metadata": {
        "id": "LYfBLhrlLZC2"
      },
      "execution_count": 20,
      "outputs": []
    },
    {
      "cell_type": "code",
      "source": [
        "# augmentations seems not included in PyPI version\n",
        "# from pytorch_tabnet.augmentations import ClassificationSMOTE\n",
        "# aug = ClassificationSMOTE(p=0.2)"
      ],
      "metadata": {
        "id": "V-ivw75NLbgv"
      },
      "execution_count": 26,
      "outputs": []
    },
    {
      "cell_type": "code",
      "source": [
        "# This illustrates the warm_start=False behaviour\n",
        "save_history = []\n",
        "for _ in range(2):\n",
        "    clf.fit(\n",
        "        X_train=X_train, y_train=y_train,\n",
        "        eval_set=[(X_train, y_train), (X_valid, y_valid)],\n",
        "        eval_name=['train', 'valid'],\n",
        "        eval_metric=['auc'],\n",
        "        max_epochs=max_epochs , patience=20,\n",
        "        batch_size=1024, virtual_batch_size=128,\n",
        "        num_workers=0,\n",
        "        weights=1,\n",
        "        drop_last=False,\n",
        "        #augmentations=aug, #aug, None\n",
        "    )\n",
        "    save_history.append(clf.history[\"valid_auc\"])\n",
        "\n",
        "# this assersion doesn't work - sure it won't, for it looks like save_history[idx] coressponds with # of valid_auc records (# of epochs) of target round \n",
        "# assert(np.all(np.array(save_history[0]==np.array(save_history[1]))))"
      ],
      "metadata": {
        "colab": {
          "base_uri": "https://localhost:8080/"
        },
        "id": "7LIMTv1-POfr",
        "outputId": "31526080-8d2b-4986-8915-6f7d8350d0c6"
      },
      "execution_count": 33,
      "outputs": [
        {
          "output_type": "stream",
          "name": "stdout",
          "text": [
            "epoch 0  | loss: 0.66821 | train_auc: 0.76144 | valid_auc: 0.75439 |  0:00:01s\n",
            "epoch 1  | loss: 0.50938 | train_auc: 0.81146 | valid_auc: 0.81009 |  0:00:03s\n",
            "epoch 2  | loss: 0.46689 | train_auc: 0.84758 | valid_auc: 0.84909 |  0:00:05s\n",
            "epoch 3  | loss: 0.4519  | train_auc: 0.86998 | valid_auc: 0.86731 |  0:00:07s\n",
            "epoch 4  | loss: 0.42997 | train_auc: 0.87727 | valid_auc: 0.87566 |  0:00:09s\n",
            "epoch 5  | loss: 0.41893 | train_auc: 0.89268 | valid_auc: 0.88933 |  0:00:11s\n",
            "epoch 6  | loss: 0.40284 | train_auc: 0.89904 | valid_auc: 0.89368 |  0:00:13s\n",
            "epoch 7  | loss: 0.3934  | train_auc: 0.90191 | valid_auc: 0.89623 |  0:00:15s\n",
            "epoch 8  | loss: 0.38517 | train_auc: 0.90667 | valid_auc: 0.90299 |  0:00:18s\n",
            "epoch 9  | loss: 0.36761 | train_auc: 0.90933 | valid_auc: 0.90672 |  0:00:23s\n",
            "epoch 10 | loss: 0.36991 | train_auc: 0.91036 | valid_auc: 0.9071  |  0:00:27s\n",
            "epoch 11 | loss: 0.35489 | train_auc: 0.90695 | valid_auc: 0.90542 |  0:00:30s\n",
            "epoch 12 | loss: 0.35914 | train_auc: 0.90745 | valid_auc: 0.90424 |  0:00:33s\n",
            "epoch 13 | loss: 0.34995 | train_auc: 0.91577 | valid_auc: 0.91066 |  0:00:36s\n",
            "epoch 14 | loss: 0.34358 | train_auc: 0.91783 | valid_auc: 0.91412 |  0:00:39s\n",
            "epoch 15 | loss: 0.34537 | train_auc: 0.92538 | valid_auc: 0.92158 |  0:00:40s\n",
            "epoch 16 | loss: 0.34252 | train_auc: 0.92717 | valid_auc: 0.92376 |  0:00:42s\n",
            "epoch 17 | loss: 0.33595 | train_auc: 0.92811 | valid_auc: 0.92399 |  0:00:44s\n",
            "epoch 18 | loss: 0.34409 | train_auc: 0.92861 | valid_auc: 0.92397 |  0:00:46s\n",
            "epoch 19 | loss: 0.3451  | train_auc: 0.9291  | valid_auc: 0.92497 |  0:00:48s\n",
            "epoch 20 | loss: 0.33649 | train_auc: 0.93086 | valid_auc: 0.92668 |  0:00:50s\n",
            "epoch 21 | loss: 0.33103 | train_auc: 0.93176 | valid_auc: 0.92415 |  0:00:52s\n",
            "epoch 22 | loss: 0.33078 | train_auc: 0.93255 | valid_auc: 0.9262  |  0:00:54s\n",
            "epoch 23 | loss: 0.32979 | train_auc: 0.93206 | valid_auc: 0.92524 |  0:00:56s\n",
            "epoch 24 | loss: 0.33362 | train_auc: 0.93312 | valid_auc: 0.92785 |  0:00:58s\n",
            "epoch 25 | loss: 0.32658 | train_auc: 0.93298 | valid_auc: 0.92822 |  0:01:00s\n",
            "epoch 26 | loss: 0.31995 | train_auc: 0.93387 | valid_auc: 0.92744 |  0:01:02s\n",
            "epoch 27 | loss: 0.32317 | train_auc: 0.93468 | valid_auc: 0.92778 |  0:01:04s\n",
            "epoch 28 | loss: 0.32676 | train_auc: 0.9352  | valid_auc: 0.92774 |  0:01:06s\n",
            "epoch 29 | loss: 0.32495 | train_auc: 0.93516 | valid_auc: 0.9281  |  0:01:07s\n",
            "epoch 30 | loss: 0.32206 | train_auc: 0.93572 | valid_auc: 0.92915 |  0:01:09s\n",
            "epoch 31 | loss: 0.31932 | train_auc: 0.93471 | valid_auc: 0.92586 |  0:01:11s\n",
            "epoch 32 | loss: 0.33116 | train_auc: 0.93239 | valid_auc: 0.92289 |  0:01:13s\n",
            "epoch 33 | loss: 0.33218 | train_auc: 0.93213 | valid_auc: 0.92201 |  0:01:15s\n",
            "epoch 34 | loss: 0.32757 | train_auc: 0.93338 | valid_auc: 0.92589 |  0:01:17s\n",
            "epoch 35 | loss: 0.3247  | train_auc: 0.93332 | valid_auc: 0.92648 |  0:01:19s\n",
            "epoch 36 | loss: 0.32632 | train_auc: 0.93383 | valid_auc: 0.92762 |  0:01:21s\n",
            "epoch 37 | loss: 0.32225 | train_auc: 0.93474 | valid_auc: 0.92483 |  0:01:23s\n",
            "epoch 38 | loss: 0.33069 | train_auc: 0.93446 | valid_auc: 0.92562 |  0:01:25s\n",
            "epoch 39 | loss: 0.32318 | train_auc: 0.93485 | valid_auc: 0.92416 |  0:01:27s\n",
            "epoch 40 | loss: 0.32162 | train_auc: 0.93324 | valid_auc: 0.92368 |  0:01:29s\n",
            "epoch 41 | loss: 0.32634 | train_auc: 0.93427 | valid_auc: 0.9254  |  0:01:31s\n",
            "epoch 42 | loss: 0.32064 | train_auc: 0.93507 | valid_auc: 0.92651 |  0:01:33s\n",
            "epoch 43 | loss: 0.32607 | train_auc: 0.93423 | valid_auc: 0.92306 |  0:01:35s\n",
            "epoch 44 | loss: 0.31897 | train_auc: 0.93539 | valid_auc: 0.9263  |  0:01:37s\n",
            "epoch 45 | loss: 0.31821 | train_auc: 0.93524 | valid_auc: 0.92504 |  0:01:39s\n",
            "epoch 46 | loss: 0.32732 | train_auc: 0.9357  | valid_auc: 0.92227 |  0:01:41s\n",
            "epoch 47 | loss: 0.32453 | train_auc: 0.93571 | valid_auc: 0.92502 |  0:01:43s\n",
            "epoch 48 | loss: 0.31452 | train_auc: 0.93669 | valid_auc: 0.92532 |  0:01:45s\n",
            "epoch 49 | loss: 0.31892 | train_auc: 0.93691 | valid_auc: 0.92856 |  0:01:46s\n",
            "epoch 50 | loss: 0.31957 | train_auc: 0.93838 | valid_auc: 0.92823 |  0:01:48s\n",
            "\n",
            "Early stopping occurred at epoch 50 with best_epoch = 30 and best_valid_auc = 0.92915\n",
            "Best weights from best epoch are automatically used!\n",
            "epoch 0  | loss: 0.32511 | train_auc: 0.93367 | valid_auc: 0.92785 |  0:00:01s\n",
            "epoch 1  | loss: 0.32212 | train_auc: 0.93536 | valid_auc: 0.92971 |  0:00:03s\n",
            "epoch 2  | loss: 0.32399 | train_auc: 0.93264 | valid_auc: 0.92337 |  0:00:05s\n",
            "epoch 3  | loss: 0.32253 | train_auc: 0.9358  | valid_auc: 0.92868 |  0:00:07s\n",
            "epoch 4  | loss: 0.32148 | train_auc: 0.93648 | valid_auc: 0.92657 |  0:00:09s\n",
            "epoch 5  | loss: 0.3219  | train_auc: 0.93525 | valid_auc: 0.92413 |  0:00:11s\n",
            "epoch 6  | loss: 0.31915 | train_auc: 0.93534 | valid_auc: 0.92682 |  0:00:13s\n",
            "epoch 7  | loss: 0.31519 | train_auc: 0.93426 | valid_auc: 0.92422 |  0:00:15s\n",
            "epoch 8  | loss: 0.32387 | train_auc: 0.93717 | valid_auc: 0.92644 |  0:00:17s\n",
            "epoch 9  | loss: 0.32514 | train_auc: 0.93636 | valid_auc: 0.92826 |  0:00:19s\n",
            "epoch 10 | loss: 0.31941 | train_auc: 0.93623 | valid_auc: 0.92583 |  0:00:21s\n",
            "epoch 11 | loss: 0.32064 | train_auc: 0.93561 | valid_auc: 0.92487 |  0:00:22s\n",
            "epoch 12 | loss: 0.32025 | train_auc: 0.93698 | valid_auc: 0.92887 |  0:00:24s\n",
            "epoch 13 | loss: 0.31242 | train_auc: 0.937   | valid_auc: 0.92986 |  0:00:26s\n",
            "epoch 14 | loss: 0.31422 | train_auc: 0.93893 | valid_auc: 0.92887 |  0:00:28s\n",
            "epoch 15 | loss: 0.31099 | train_auc: 0.9389  | valid_auc: 0.92855 |  0:00:30s\n",
            "epoch 16 | loss: 0.3111  | train_auc: 0.93883 | valid_auc: 0.9283  |  0:00:32s\n",
            "epoch 17 | loss: 0.30933 | train_auc: 0.93855 | valid_auc: 0.92649 |  0:00:34s\n",
            "epoch 18 | loss: 0.31378 | train_auc: 0.93899 | valid_auc: 0.93025 |  0:00:36s\n",
            "epoch 19 | loss: 0.31571 | train_auc: 0.9394  | valid_auc: 0.92982 |  0:00:38s\n",
            "epoch 20 | loss: 0.31835 | train_auc: 0.93488 | valid_auc: 0.92625 |  0:00:40s\n",
            "epoch 21 | loss: 0.30907 | train_auc: 0.93793 | valid_auc: 0.928   |  0:00:42s\n",
            "epoch 22 | loss: 0.31564 | train_auc: 0.93882 | valid_auc: 0.92942 |  0:00:44s\n",
            "epoch 23 | loss: 0.31916 | train_auc: 0.9385  | valid_auc: 0.9288  |  0:00:46s\n",
            "epoch 24 | loss: 0.31497 | train_auc: 0.93958 | valid_auc: 0.92844 |  0:00:48s\n",
            "epoch 25 | loss: 0.3125  | train_auc: 0.93891 | valid_auc: 0.92845 |  0:00:50s\n",
            "epoch 26 | loss: 0.31054 | train_auc: 0.93983 | valid_auc: 0.9288  |  0:00:51s\n",
            "epoch 27 | loss: 0.31556 | train_auc: 0.93954 | valid_auc: 0.92835 |  0:00:53s\n",
            "epoch 28 | loss: 0.30907 | train_auc: 0.94037 | valid_auc: 0.92987 |  0:00:55s\n",
            "epoch 29 | loss: 0.31466 | train_auc: 0.94136 | valid_auc: 0.92895 |  0:00:57s\n",
            "epoch 30 | loss: 0.30968 | train_auc: 0.94023 | valid_auc: 0.92684 |  0:00:59s\n",
            "epoch 31 | loss: 0.30954 | train_auc: 0.93947 | valid_auc: 0.92591 |  0:01:01s\n",
            "epoch 32 | loss: 0.31308 | train_auc: 0.93946 | valid_auc: 0.92855 |  0:01:03s\n",
            "epoch 33 | loss: 0.30295 | train_auc: 0.94092 | valid_auc: 0.9281  |  0:01:05s\n",
            "epoch 34 | loss: 0.31122 | train_auc: 0.94137 | valid_auc: 0.92778 |  0:01:07s\n",
            "epoch 35 | loss: 0.30347 | train_auc: 0.94015 | valid_auc: 0.92859 |  0:01:09s\n",
            "epoch 36 | loss: 0.30596 | train_auc: 0.94067 | valid_auc: 0.92709 |  0:01:10s\n",
            "epoch 37 | loss: 0.31349 | train_auc: 0.94087 | valid_auc: 0.92816 |  0:01:12s\n",
            "epoch 38 | loss: 0.31208 | train_auc: 0.94068 | valid_auc: 0.9243  |  0:01:14s\n",
            "\n",
            "Early stopping occurred at epoch 38 with best_epoch = 18 and best_valid_auc = 0.93025\n",
            "Best weights from best epoch are automatically used!\n"
          ]
        }
      ]
    },
    {
      "cell_type": "code",
      "source": [
        "# plot losses\n",
        "plt.plot(clf.history['loss'])"
      ],
      "metadata": {
        "colab": {
          "base_uri": "https://localhost:8080/",
          "height": 283
        },
        "id": "0dzfxd-QPULi",
        "outputId": "4e413acb-c60c-4082-ed51-510ade048dfc"
      },
      "execution_count": 34,
      "outputs": [
        {
          "output_type": "execute_result",
          "data": {
            "text/plain": [
              "[<matplotlib.lines.Line2D at 0x7fba74225110>]"
            ]
          },
          "metadata": {},
          "execution_count": 34
        },
        {
          "output_type": "display_data",
          "data": {
            "text/plain": [
              "<Figure size 432x288 with 1 Axes>"
            ],
            "image/png": "[encoded data removed]"
          },
          "metadata": {
            "needs_background": "light"
          }
        }
      ]
    },
    {
      "cell_type": "code",
      "source": [
        "# plot auc\n",
        "plt.plot(clf.history['train_auc'])\n",
        "plt.plot(clf.history['valid_auc'])"
      ],
      "metadata": {
        "colab": {
          "base_uri": "https://localhost:8080/",
          "height": 283
        },
        "id": "8kck1brZPWLi",
        "outputId": "93cda853-8761-4feb-e1f8-44d6615ddb14"
      },
      "execution_count": 35,
      "outputs": [
        {
          "output_type": "execute_result",
          "data": {
            "text/plain": [
              "[<matplotlib.lines.Line2D at 0x7fba71bd0bd0>]"
            ]
          },
          "metadata": {},
          "execution_count": 35
        },
        {
          "output_type": "display_data",
          "data": {
            "text/plain": [
              "<Figure size 432x288 with 1 Axes>"
            ],
            "image/png": "[encoded data removed]"
          },
          "metadata": {
            "needs_background": "light"
          }
        }
      ]
    },
    {
      "cell_type": "code",
      "source": [
        "# plot learning rates\n",
        "plt.plot(clf.history['lr'])"
      ],
      "metadata": {
        "colab": {
          "base_uri": "https://localhost:8080/",
          "height": 283
        },
        "id": "H-wxrEHVPYWN",
        "outputId": "113ed666-0862-4b92-ff3d-06eaf3bab834"
      },
      "execution_count": 36,
      "outputs": [
        {
          "output_type": "execute_result",
          "data": {
            "text/plain": [
              "[<matplotlib.lines.Line2D at 0x7fba71b497d0>]"
            ]
          },
          "metadata": {},
          "execution_count": 36
        },
        {
          "output_type": "display_data",
          "data": {
            "text/plain": [
              "<Figure size 432x288 with 1 Axes>"
            ],
            "image/png": "[encoded data removed]"
          },
          "metadata": {
            "needs_background": "light"
          }
        }
      ]
    },
    {
      "cell_type": "markdown",
      "source": [
        "# Predictions"
      ],
      "metadata": {
        "id": "s_9moBbkPf99"
      }
    },
    {
      "cell_type": "code",
      "source": [
        "preds = clf.predict_proba(X_test)\n",
        "test_auc = roc_auc_score(y_score=preds[:,1], y_true=y_test)\n",
        "\n",
        "\n",
        "preds_valid = clf.predict_proba(X_valid)\n",
        "valid_auc = roc_auc_score(y_score=preds_valid[:,1], y_true=y_valid)\n",
        "\n",
        "print(f\"BEST VALID SCORE FOR {dataset_name} : {clf.best_cost}\")\n",
        "print(f\"FINAL TEST SCORE FOR {dataset_name} : {test_auc}\")"
      ],
      "metadata": {
        "colab": {
          "base_uri": "https://localhost:8080/"
        },
        "id": "8A9zfZ4mPg9I",
        "outputId": "c823a109-d70a-4622-c12b-2301d2f7a42a"
      },
      "execution_count": 37,
      "outputs": [
        {
          "output_type": "stream",
          "name": "stdout",
          "text": [
            "BEST VALID SCORE FOR census-income : 0.9302527025040114\n",
            "FINAL TEST SCORE FOR census-income : 0.9222911545714243\n"
          ]
        }
      ]
    },
    {
      "cell_type": "code",
      "source": [
        "# check that best weights are used\n",
        "assert np.isclose(valid_auc, np.max(clf.history['valid_auc']), atol=1e-6)"
      ],
      "metadata": {
        "id": "NfP0PrzhPlAn"
      },
      "execution_count": 38,
      "outputs": []
    },
    {
      "cell_type": "code",
      "source": [
        "clf.predict(X_test)"
      ],
      "metadata": {
        "colab": {
          "base_uri": "https://localhost:8080/"
        },
        "id": "Nv7cdTX6PnHX",
        "outputId": "dde97f4a-a5fe-4fb6-ddef-a26ace3ab279"
      },
      "execution_count": 39,
      "outputs": [
        {
          "output_type": "execute_result",
          "data": {
            "text/plain": [
              "array(['not_wealthy', 'not_wealthy', 'wealthy', ..., 'not_wealthy',\n",
              "       'wealthy', 'wealthy'], dtype='<U11')"
            ]
          },
          "metadata": {},
          "execution_count": 39
        }
      ]
    },
    {
      "cell_type": "markdown",
      "source": [
        "# Save and load Model"
      ],
      "metadata": {
        "id": "k3VrlZElVJIl"
      }
    },
    {
      "cell_type": "code",
      "source": [
        "# save tabnet model\n",
        "saving_path_name = \"./tabnet_model_test_1\"\n",
        "saved_filepath = clf.save_model(saving_path_name)"
      ],
      "metadata": {
        "colab": {
          "base_uri": "https://localhost:8080/"
        },
        "id": "Us8elYqcVJnd",
        "outputId": "c2107e43-daab-4a6d-ac7a-e70cfb786fd1"
      },
      "execution_count": 40,
      "outputs": [
        {
          "output_type": "stream",
          "name": "stdout",
          "text": [
            "Successfully saved model at ./tabnet_model_test_1.zip\n"
          ]
        }
      ]
    },
    {
      "cell_type": "code",
      "source": [
        "# define new model with basic parameters and load state dict weights\n",
        "loaded_clf = TabNetClassifier()\n",
        "loaded_clf.load_model(saved_filepath)"
      ],
      "metadata": {
        "colab": {
          "base_uri": "https://localhost:8080/"
        },
        "id": "iOKJlHSVVU0O",
        "outputId": "d8a24637-72cc-4057-ff00-9e0bdf314e0a"
      },
      "execution_count": 41,
      "outputs": [
        {
          "output_type": "stream",
          "name": "stdout",
          "text": [
            "Device used : cpu\n",
            "Device used : cpu\n"
          ]
        }
      ]
    },
    {
      "cell_type": "code",
      "source": [
        "loaded_preds = loaded_clf.predict_proba(X_test)\n",
        "loaded_test_auc = roc_auc_score(y_score=loaded_preds[:,1], y_true=y_test)\n",
        "\n",
        "print(f\"FINAL TEST SCORE FOR {dataset_name} : {loaded_test_auc}\")"
      ],
      "metadata": {
        "colab": {
          "base_uri": "https://localhost:8080/"
        },
        "id": "KHqxCBhAVW0a",
        "outputId": "a33522fe-bd1b-45f1-8bcb-607627a687e7"
      },
      "execution_count": 42,
      "outputs": [
        {
          "output_type": "stream",
          "name": "stdout",
          "text": [
            "FINAL TEST SCORE FOR census-income : 0.9222911545714243\n"
          ]
        }
      ]
    },
    {
      "cell_type": "code",
      "source": [
        "assert(test_auc == loaded_test_auc)"
      ],
      "metadata": {
        "id": "ojbD1vALVYh5"
      },
      "execution_count": 43,
      "outputs": []
    },
    {
      "cell_type": "code",
      "source": [
        "loaded_clf.predict(X_test)"
      ],
      "metadata": {
        "colab": {
          "base_uri": "https://localhost:8080/"
        },
        "id": "hs6WBOZPVaUI",
        "outputId": "cda59768-c86c-4253-d0b8-25af4195ee99"
      },
      "execution_count": 44,
      "outputs": [
        {
          "output_type": "execute_result",
          "data": {
            "text/plain": [
              "array(['not_wealthy', 'not_wealthy', 'wealthy', ..., 'not_wealthy',\n",
              "       'wealthy', 'wealthy'], dtype='<U11')"
            ]
          },
          "metadata": {},
          "execution_count": 44
        }
      ]
    },
    {
      "cell_type": "markdown",
      "source": [
        "# Global explainability : feat importance summing to 1"
      ],
      "metadata": {
        "id": "rXeK4TlWVfqb"
      }
    },
    {
      "cell_type": "code",
      "source": [
        "clf.feature_importances_"
      ],
      "metadata": {
        "colab": {
          "base_uri": "https://localhost:8080/"
        },
        "id": "tNNv2RzMVcfe",
        "outputId": "fe994c13-6dbe-4c66-ab63-dc52bcfa4592"
      },
      "execution_count": 45,
      "outputs": [
        {
          "output_type": "execute_result",
          "data": {
            "text/plain": [
              "array([0.05456593, 0.02463635, 0.00093314, 0.01862666, 0.13796164,\n",
              "       0.12755866, 0.07219027, 0.13127836, 0.02950969, 0.0356125 ,\n",
              "       0.15354651, 0.07262417, 0.06173228, 0.07922384])"
            ]
          },
          "metadata": {},
          "execution_count": 45
        }
      ]
    },
    {
      "cell_type": "markdown",
      "source": [
        "# Local explainability and masks"
      ],
      "metadata": {
        "id": "XR-7sL41VkiU"
      }
    },
    {
      "cell_type": "code",
      "source": [
        "explain_matrix, masks = clf.explain(X_test)"
      ],
      "metadata": {
        "id": "mTK34__TViKf"
      },
      "execution_count": 46,
      "outputs": []
    },
    {
      "cell_type": "code",
      "source": [
        "fig, axs = plt.subplots(1, 3, figsize=(20,20))\n",
        "\n",
        "for i in range(3):\n",
        "    axs[i].imshow(masks[i][:50])\n",
        "    axs[i].set_title(f\"mask {i}\")"
      ],
      "metadata": {
        "colab": {
          "base_uri": "https://localhost:8080/",
          "height": 753
        },
        "id": "3XfyxoxfVoNW",
        "outputId": "31fa9325-b261-4e81-8bf5-dacba4ea5ecf"
      },
      "execution_count": 47,
      "outputs": [
        {
          "output_type": "display_data",
          "data": {
            "text/plain": [
              "<Figure size 1440x1440 with 3 Axes>"
            ],
            "image/png": "[encoded data removed]"
          },
          "metadata": {
            "needs_background": "light"
          }
        }
      ]
    },
    {
      "cell_type": "code",
      "source": [
        ""
      ],
      "metadata": {
        "id": "TYj-1c7BVp8Z"
      },
      "execution_count": null,
      "outputs": []
    }
  ]
}