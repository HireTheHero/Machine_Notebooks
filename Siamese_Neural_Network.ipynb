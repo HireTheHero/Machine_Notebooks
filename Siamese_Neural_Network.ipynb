{
  "nbformat": 4,
  "nbformat_minor": 0,
  "metadata": {
    "colab": {
      "name": "Siamese Neural Network.ipynb",
      "provenance": [],
      "collapsed_sections": [],
      "include_colab_link": true
    },
    "kernelspec": {
      "name": "python3",
      "display_name": "Python 3"
    },
    "accelerator": "GPU"
  },
  "cells": [
    {
      "cell_type": "markdown",
      "metadata": {
        "id": "view-in-github",
        "colab_type": "text"
      },
      "source": [
        "<a href=\"https://colab.research.google.com/github/WannaGetDSJobInSanFrancisco/Machine_Notebooks/blob/main/Siamese_Neural_Network.ipynb\" target=\"_parent\"><img src=\"https://colab.research.google.com/assets/colab-badge.svg\" alt=\"Open In Colab\"/></a>"
      ]
    },
    {
      "metadata": {
        "id": "EDMURKIHPI7E"
      },
      "cell_type": "markdown",
      "source": [
        "# Siamese Neural Network\n",
        "\n",
        "Siamese neural network is a class of neural network architectures that contain two or more identical sub networks. identical here means they have the same configuration with the same parameters and weights. Parameter updating is mirrored across both sub networks.It is used find the similarity of the inputs by comparing its feature vectors.\n",
        "\n",
        "For more details check this blog : https://innovationincubator.com/siamaese-neural-network-with-paytorch-code-example/"
      ]
    },
    {
      "metadata": {
        "id": "vLqOxtMiPgSJ"
      },
      "cell_type": "markdown",
      "source": [
        "## Steps to create classifier using Siamese Neural Network \n",
        "\n",
        "\n",
        "1.   **Data Preprocessing**\n",
        "2.   **Define the Siamese Network**\n",
        "3.   **Feature Vector Extraction**\n",
        "4.   **Similarity Score Calculation**\n",
        "5.   **Defininf Loss Function**\n",
        "6.   **Optimizer**\n",
        "7.   **Testing using One-Shot Learnig**\n",
        "8.   **Making Predictions**\n",
        "\n"
      ]
    },
    {
      "metadata": {
        "id": "EQVRApGcQiKR"
      },
      "cell_type": "markdown",
      "source": [
        "Let's  go step wise "
      ]
    },
    {
      "metadata": {
        "id": "ZwVjRxLM7_3A"
      },
      "cell_type": "markdown",
      "source": [
        "## Import and Install all the necessary packages"
      ]
    },
    {
      "metadata": {
        "id": "H6S_xl70PpAw",
        "outputId": "b8d9a6a0-9be4-4b74-b969-624f261255b2",
        "colab": {
          "base_uri": "https://localhost:8080/",
          "height": 54
        }
      },
      "cell_type": "code",
      "source": [
        "from os.path import exists\n",
        "from wheel.pep425tags import get_abbr_impl, get_impl_ver, get_abi_tag\n",
        "platform = '{}{}-{}'.format(get_abbr_impl(), get_impl_ver(), get_abi_tag())\n",
        "cuda_output = !ldconfig -p|grep cudart.so|sed -e 's/.*\\.\\([0-9]*\\)\\.\\([0-9]*\\)$/cu\\1\\2/'\n",
        "accelerator = cuda_output[0] if exists('/dev/nvidia0') else 'cpu'\n",
        "\n",
        "!pip install -q http://download.pytorch.org/whl/{accelerator}/torch-0.4.1-{platform}-linux_x86_64.whl torchvision"
      ],
      "execution_count": null,
      "outputs": [
        {
          "output_type": "stream",
          "text": [
            "tcmalloc: large alloc 1073750016 bytes == 0x5818e000 @  0x7f354b60d2a4 0x591a07 0x5b5d56 0x502e9a 0x506859 0x502209 0x502f3d 0x506859 0x504c28 0x502540 0x502f3d 0x506859 0x504c28 0x502540 0x502f3d 0x506859 0x504c28 0x502540 0x502f3d 0x507641 0x502209 0x502f3d 0x506859 0x504c28 0x502540 0x502f3d 0x507641 0x504c28 0x502540 0x502f3d 0x507641\n"
          ],
          "name": "stdout"
        }
      ]
    },
    {
      "metadata": {
        "id": "esGrw0waQlwP"
      },
      "cell_type": "code",
      "source": [
        "# Import all the necessary Library \n",
        "import torchvision\n",
        "import torch.utils.data as utils\n",
        "from torchvision import datasets\n",
        "import torchvision.transforms as transforms\n",
        "from torch.utils.data import DataLoader,Dataset\n",
        "from torch.autograd import Variable\n",
        "import matplotlib.pyplot as plt\n",
        "import torchvision.utils\n",
        "import numpy as np\n",
        "import time\n",
        "import copy\n",
        "from torch.optim import lr_scheduler\n",
        "import os\n",
        "from PIL import Image\n",
        "import torch\n",
        "from torch.autograd import Variable\n",
        "import PIL.ImageOps    \n",
        "import torch.nn as nn\n",
        "from torch import optim\n",
        "import torch.nn.functional as F\n",
        "import pandas as pd \n"
      ],
      "execution_count": null,
      "outputs": []
    },
    {
      "metadata": {
        "id": "xg4WD1Dmzn5c",
        "outputId": "c8af13eb-4db2-4276-d047-aef7c4ea7c57",
        "colab": {
          "base_uri": "https://localhost:8080/",
          "height": 245
        }
      },
      "cell_type": "code",
      "source": [
        "!pip install pillow==4.1.1\n",
        "%reload_ext autoreload\n",
        "%autoreload"
      ],
      "execution_count": null,
      "outputs": [
        {
          "output_type": "stream",
          "text": [
            "Collecting pillow==4.1.1\n",
            "\u001b[?25l  Downloading https://files.pythonhosted.org/packages/36/e5/88b3d60924a3f8476fa74ec086f5fbaba56dd6cee0d82845f883b6b6dd18/Pillow-4.1.1-cp36-cp36m-manylinux1_x86_64.whl (5.7MB)\n",
            "\u001b[K    100% |████████████████████████████████| 5.7MB 7.7MB/s \n",
            "\u001b[?25hRequirement already satisfied: olefile in /usr/local/lib/python3.6/dist-packages (from pillow==4.1.1) (0.46)\n",
            "Installing collected packages: pillow\n",
            "  Found existing installation: Pillow 5.4.1\n",
            "    Uninstalling Pillow-5.4.1:\n",
            "      Successfully uninstalled Pillow-5.4.1\n",
            "Successfully installed pillow-4.1.1\n",
            "\u001b[0;31;1mWARNING: The following packages were previously imported in this runtime:\n",
            "  [PIL]\n",
            "You must restart the runtime in order to use newly installed versions.\u001b[0m\n"
          ],
          "name": "stdout"
        }
      ]
    },
    {
      "metadata": {
        "id": "PmRRnTkx8Gdf"
      },
      "cell_type": "markdown",
      "source": [
        "### Additional Utility Functions "
      ]
    },
    {
      "metadata": {
        "id": "8lbUsE940bz1"
      },
      "cell_type": "code",
      "source": [
        "def imshow(img,text=None,should_save=False):\n",
        "    npimg = img.numpy()\n",
        "    plt.axis(\"off\")\n",
        "    if text:\n",
        "        plt.text(75, 8, text, style='italic',fontweight='bold',\n",
        "            bbox={'facecolor':'white', 'alpha':0.8, 'pad':10})\n",
        "    plt.imshow(np.transpose(npimg, (1, 2, 0)))\n",
        "    plt.show()    \n",
        "\n",
        "def show_plot(iteration,loss):\n",
        "    plt.plot(iteration,loss)\n",
        "    plt.show()"
      ],
      "execution_count": null,
      "outputs": []
    },
    {
      "metadata": {
        "id": "o5NvCZbZeh4A"
      },
      "cell_type": "code",
      "source": [
        "class Config():\n",
        "    training_dir = \"./data/faces/training/\"\n",
        "    testing_dir = \"./data/faces/testing/\"\n",
        "    train_batch_size = 32\n",
        "    train_number_epochs = 20"
      ],
      "execution_count": null,
      "outputs": []
    },
    {
      "metadata": {
        "id": "lSceosT-QYVv"
      },
      "cell_type": "markdown",
      "source": [
        "## Load Dataset :\n",
        "\n",
        "Datasets can be downloaded from this Link:  https://drive.google.com/file/d/1q03FLpaolm6Jq5vM0a_AEnjJoqjtxgP8/view?usp=sharing\n",
        "\n",
        "**Copy the dataset directly to your drive and load it from there**"
      ]
    },
    {
      "metadata": {
        "id": "DdWYpSXkjnDB",
        "outputId": "ed04d8d2-bfac-4626-ce84-a191ca06dcd6",
        "colab": {
          "base_uri": "https://localhost:8080/",
          "height": 34
        }
      },
      "cell_type": "code",
      "source": [
        "!ls"
      ],
      "execution_count": null,
      "outputs": [
        {
          "output_type": "stream",
          "text": [
            "sample_data\n"
          ],
          "name": "stdout"
        }
      ]
    },
    {
      "metadata": {
        "id": "t5gCKXjTPut2"
      },
      "cell_type": "code",
      "source": [
        "from google.colab import drive\n",
        "drive.mount('/content/drive')"
      ],
      "execution_count": null,
      "outputs": []
    },
    {
      "metadata": {
        "id": "j3q_b_lZPup_"
      },
      "cell_type": "code",
      "source": [
        "!cp \"drive/My Drive/dataset/sign_data.zip\" ."
      ],
      "execution_count": null,
      "outputs": []
    },
    {
      "metadata": {
        "id": "WHXPw7RGDmFl",
        "outputId": "da629053-5a82-47ee-e20e-3ce45e925c2b",
        "colab": {
          "base_uri": "https://localhost:8080/",
          "height": 34
        }
      },
      "cell_type": "code",
      "source": [
        "!ls /content/sign_data"
      ],
      "execution_count": null,
      "outputs": [
        {
          "output_type": "stream",
          "text": [
            "test  test_data.csv  train  train_data.csv\n"
          ],
          "name": "stdout"
        }
      ]
    },
    {
      "metadata": {
        "id": "EFbF-KBzDWNW"
      },
      "cell_type": "code",
      "source": [
        "training_dir=\"/content/sign_data/train\"\n",
        "training_csv=\"/content/sign_data/train_data.csv\"\n",
        "testing_csv=\"/content/sign_data/test_data.csv\"\n",
        "testing_dir=\"/content/sign_data/test\""
      ],
      "execution_count": null,
      "outputs": []
    },
    {
      "metadata": {
        "id": "UxTVXqCqOBso"
      },
      "cell_type": "code",
      "source": [
        "!unzip sign_data.zip"
      ],
      "execution_count": null,
      "outputs": []
    },
    {
      "metadata": {
        "id": "pBOpcs9KRjWm"
      },
      "cell_type": "markdown",
      "source": [
        "### Preprocessing and Loading Dataset\n",
        "\n",
        "We preprocessed all the images and loaded them as .npy files which is easy to transfer . You can follow your own preprocessing steps .\n"
      ]
    },
    {
      "metadata": {
        "id": "VC5JhgpcPmP6"
      },
      "cell_type": "code",
      "source": [
        "class SiameseNetworkDataset():\n",
        "    \n",
        "    def __init__(self,training_csv=None,training_dir=None,transform=None):\n",
        "        # used to prepare the labels and images path\n",
        "        self.training_df=pd.read_csv(training_csv)\n",
        "        self.training_df.columns =[\"image1\",\"image2\",\"label\"]\n",
        "        self.training_dir = training_dir    \n",
        "        self.transform = transform\n",
        "\n",
        "    def __getitem__(self,index):\n",
        "        \n",
        "        # getting the image path\n",
        "        image1_path=os.path.join(self.training_dir,self.training_df.iat[index,0])\n",
        "        image2_path=os.path.join(self.training_dir,self.training_df.iat[index,1])\n",
        "        \n",
        "        \n",
        "        # Loading the image\n",
        "        img0 = Image.open(image1_path)\n",
        "        img1 = Image.open(image2_path)\n",
        "        img0 = img0.convert(\"L\")\n",
        "        img1 = img1.convert(\"L\")\n",
        "        \n",
        "        # Apply image transformations\n",
        "        if self.transform is not None:\n",
        "            img0 = self.transform(img0)\n",
        "            img1 = self.transform(img1)\n",
        "        \n",
        "        return img0, img1 , torch.from_numpy(np.array([int(self.training_df.iat[index,2])],dtype=np.float32))\n",
        "    \n",
        "    def __len__(self):\n",
        "        return len(self.training_df)"
      ],
      "execution_count": null,
      "outputs": []
    },
    {
      "metadata": {
        "id": "Ws1NipMUQaI3"
      },
      "cell_type": "code",
      "source": [
        "# Load the the dataset from raw image folders\n",
        "siamese_dataset = SiameseNetworkDataset(training_csv,training_dir,\n",
        "                                        transform=transforms.Compose([transforms.Resize((105,105)),\n",
        "                                                                      transforms.ToTensor()\n",
        "                                                                      ])\n",
        "                                       )"
      ],
      "execution_count": null,
      "outputs": []
    },
    {
      "metadata": {
        "id": "eTpprbksZS80",
        "outputId": "39e45d3f-3d90-4164-a57d-b395bb59d408",
        "colab": {
          "base_uri": "https://localhost:8080/",
          "height": 303
        }
      },
      "cell_type": "code",
      "source": [
        "# Viewing the sample of images and to check whether its loading properly\n",
        "vis_dataloader = DataLoader(siamese_dataset,\n",
        "                        shuffle=True,\n",
        "                        batch_size=8)\n",
        "dataiter = iter(vis_dataloader)\n",
        "\n",
        "\n",
        "example_batch = next(dataiter)\n",
        "concatenated = torch.cat((example_batch[0],example_batch[1]),0)\n",
        "imshow(torchvision.utils.make_grid(concatenated))\n",
        "print(example_batch[2].numpy())"
      ],
      "execution_count": null,
      "outputs": [
        {
          "output_type": "display_data",
          "data": {
            "image/png": "[encoded data removed]",
            "text/plain": [
              "<Figure size 576x396 with 1 Axes>"
            ]
          },
          "metadata": {
            "tags": []
          }
        },
        {
          "output_type": "stream",
          "text": [
            "[[1.]\n",
            " [1.]\n",
            " [0.]\n",
            " [0.]\n",
            " [1.]\n",
            " [0.]\n",
            " [0.]\n",
            " [1.]]\n"
          ],
          "name": "stdout"
        }
      ]
    },
    {
      "metadata": {
        "id": "5xhlmF-nj6_v"
      },
      "cell_type": "markdown",
      "source": [
        "## Siamese Network Definition"
      ]
    },
    {
      "metadata": {
        "id": "MjkBkyTomlU6"
      },
      "cell_type": "code",
      "source": [
        "class SiameseNetwork(nn.Module):\n",
        "    def __init__(self):\n",
        "        super(SiameseNetwork, self).__init__()\n",
        "        \n",
        "        # Setting up the Sequential of CNN Layers\n",
        "        self.cnn1 = nn.Sequential(\n",
        "            \n",
        "            nn.Conv2d(1, 96, kernel_size=11,stride=1),\n",
        "            nn.ReLU(inplace=True),\n",
        "            nn.LocalResponseNorm(5,alpha=0.0001,beta=0.75,k=2),\n",
        "            nn.MaxPool2d(3, stride=2),\n",
        "            \n",
        "            nn.Conv2d(96, 256, kernel_size=5,stride=1,padding=2),\n",
        "            nn.ReLU(inplace=True),\n",
        "            nn.LocalResponseNorm(5,alpha=0.0001,beta=0.75,k=2),\n",
        "            nn.MaxPool2d(3, stride=2),\n",
        "            nn.Dropout2d(p=0.3),\n",
        "\n",
        "            nn.Conv2d(256,384 , kernel_size=3,stride=1,padding=1),\n",
        "            nn.ReLU(inplace=True),\n",
        "            nn.Conv2d(384,256 , kernel_size=3,stride=1,padding=1),\n",
        "            nn.ReLU(inplace=True),\n",
        "            nn.MaxPool2d(3, stride=2),\n",
        "            nn.Dropout2d(p=0.3),\n",
        "\n",
        "        )\n",
        "        \n",
        "        # Defining the fully connected layers\n",
        "        self.fc1 = nn.Sequential(\n",
        "            nn.Linear(30976, 1024),\n",
        "            nn.ReLU(inplace=True),\n",
        "            nn.Dropout2d(p=0.5),\n",
        "            \n",
        "            nn.Linear(1024, 128),\n",
        "            nn.ReLU(inplace=True),\n",
        "            \n",
        "            nn.Linear(128,2))\n",
        "        \n",
        "  \n",
        "  \n",
        "    def forward_once(self, x):\n",
        "        # Forward pass \n",
        "        output = self.cnn1(x)\n",
        "        output = output.view(output.size()[0], -1)\n",
        "        output = self.fc1(output)\n",
        "        return output\n",
        "\n",
        "    def forward(self, input1, input2):\n",
        "        # forward pass of input 1\n",
        "        output1 = self.forward_once(input1)\n",
        "        # forward pass of input 2\n",
        "        output2 = self.forward_once(input2)\n",
        "        return output1, output2\n"
      ],
      "execution_count": null,
      "outputs": []
    },
    {
      "metadata": {
        "id": "2xaKRzCV-vBD"
      },
      "cell_type": "markdown",
      "source": [
        "### Loss Function"
      ]
    },
    {
      "metadata": {
        "id": "nBjCIlhWk2MT"
      },
      "cell_type": "code",
      "source": [
        "class ContrastiveLoss(torch.nn.Module):\n",
        "    \"\"\"\n",
        "    Contrastive loss function.\n",
        "    Based on: http://yann.lecun.com/exdb/publis/pdf/hadsell-chopra-lecun-06.pdf\n",
        "    \"\"\"\n",
        "\n",
        "    def __init__(self, margin=2.0):\n",
        "        super(ContrastiveLoss, self).__init__()\n",
        "        self.margin = margin\n",
        "\n",
        "    def forward(self, output1, output2, label):\n",
        "        euclidean_distance = F.pairwise_distance(output1, output2)\n",
        "        loss_contrastive = torch.mean((1-label) * torch.pow(euclidean_distance, 2) +\n",
        "                                      (label) * torch.pow(torch.clamp(self.margin - euclidean_distance, min=0.0), 2))\n",
        "\n",
        "\n",
        "        return loss_contrastive"
      ],
      "execution_count": null,
      "outputs": []
    },
    {
      "metadata": {
        "id": "UyGA_GUt-0xp"
      },
      "cell_type": "markdown",
      "source": [
        "### Train the Model"
      ]
    },
    {
      "metadata": {
        "id": "xO9uIznkXiB0"
      },
      "cell_type": "code",
      "source": [
        "# Load the dataset as pytorch tensors using dataloader\n",
        "train_dataloader = DataLoader(siamese_dataset,\n",
        "                        shuffle=True,\n",
        "                        num_workers=8,\n",
        "                        batch_size=Config.train_batch_size)"
      ],
      "execution_count": null,
      "outputs": []
    },
    {
      "metadata": {
        "id": "tspmR_2bd824",
        "outputId": "e78098fb-1e33-46d3-80ae-1eb212af94ea",
        "colab": {
          "base_uri": "https://localhost:8080/",
          "height": 34
        }
      },
      "cell_type": "code",
      "source": [
        "# Check whether you have GPU is loaded or not\n",
        "if torch.cuda.is_available():\n",
        "    print('Yes')"
      ],
      "execution_count": null,
      "outputs": [
        {
          "output_type": "stream",
          "text": [
            "Yes\n"
          ],
          "name": "stdout"
        }
      ]
    },
    {
      "metadata": {
        "id": "dPnzoTXfE5cX"
      },
      "cell_type": "code",
      "source": [
        "# Declare Siamese Network\n",
        "net = SiameseNetwork().cuda()\n",
        "# Decalre Loss Function\n",
        "criterion = ContrastiveLoss()\n",
        "# Declare Optimizer\n",
        "optimizer = optim.RMSprop(net.parameters(), lr=1e-4, alpha=0.99, eps=1e-8, weight_decay=0.0005, momentum=0.9)"
      ],
      "execution_count": null,
      "outputs": []
    },
    {
      "metadata": {
        "id": "6aUJOhkrFfu9"
      },
      "cell_type": "code",
      "source": [
        "def train():\n",
        "    counter = []\n",
        "    loss_history = [] \n",
        "    iteration_number= 0\n",
        "    \n",
        "    for epoch in range(0,Config.train_number_epochs):\n",
        "        for i, data in enumerate(train_dataloader,0):\n",
        "            img0, img1 , label = data\n",
        "            img0, img1 , label = img0.cuda(), img1.cuda() , label.cuda()\n",
        "            optimizer.zero_grad()\n",
        "            output1,output2 = net(img0,img1)\n",
        "            loss_contrastive = criterion(output1,output2,label)\n",
        "            loss_contrastive.backward()\n",
        "            optimizer.step()\n",
        "            if i %50 == 0 :\n",
        "                print(\"Epoch number {}\\n Current loss {}\\n\".format(epoch,loss_contrastive.item()))\n",
        "                iteration_number +=10\n",
        "                counter.append(iteration_number)\n",
        "                loss_history.append(loss_contrastive.item())\n",
        "    return net"
      ],
      "execution_count": null,
      "outputs": []
    },
    {
      "metadata": {
        "id": "oDx471-mBDGD"
      },
      "cell_type": "code",
      "source": [
        "device = torch.device('cuda' if torch.cuda.is_available() else 'cpu')\n",
        "# Train the model\n",
        "model = train()\n",
        "torch.save(model.state_dict(), \"/content/model.pt\")\n",
        "print(\"Model Saved Successfully\")"
      ],
      "execution_count": null,
      "outputs": []
    },
    {
      "metadata": {
        "id": "-EH_2bML3v2W"
      },
      "cell_type": "code",
      "source": [
        "# Load the saved model\n",
        "device = torch.device('cuda' if torch.cuda.is_available() else 'cpu')\n",
        "model = SiameseNetwork().to(device)\n",
        "model.load_state_dict(torch.load(\"/content/model20.pt\"))"
      ],
      "execution_count": null,
      "outputs": []
    },
    {
      "metadata": {
        "id": "tYS8IFa9FD2C"
      },
      "cell_type": "code",
      "source": [
        "# Load the test dataset\n",
        "test_dataset = SiameseNetworkDataset(training_csv=testing_csv,training_dir=testing_dir,\n",
        "                                        transform=transforms.Compose([transforms.Resize((105,105)),\n",
        "                                                                      transforms.ToTensor()\n",
        "                                                                      ])\n",
        "                                       )\n",
        "\n",
        "test_dataloader = DataLoader(test_dataset,num_workers=6,batch_size=1,shuffle=True)"
      ],
      "execution_count": null,
      "outputs": []
    },
    {
      "metadata": {
        "id": "Zy5GPKz5vvxO"
      },
      "cell_type": "code",
      "source": [
        "# Print the sample outputs to view its dissimilarity\n",
        "counter=0\n",
        "list_0 = torch.FloatTensor([[0]])\n",
        "list_1 = torch.FloatTensor([[1]])\n",
        "for i, data in enumerate(test_dataloader,0): \n",
        "  x0, x1 , label = data\n",
        "  concatenated = torch.cat((x0,x1),0)\n",
        "  output1,output2 = model(x0.to(device),x1.to(device))\n",
        "  eucledian_distance = F.pairwise_distance(output1, output2)\n",
        "  if label==list_0:\n",
        "    label=\"Orginial\"\n",
        "  else:\n",
        "    label=\"Forged\"\n",
        "  imshow(torchvision.utils.make_grid(concatenated),'Dissimilarity: {:.2f} Label: {}'.format(eucledian_distance.item(),label))\n",
        "  counter=counter+1\n",
        "  if counter ==20:\n",
        "     break"
      ],
      "execution_count": null,
      "outputs": []
    },
    {
      "metadata": {
        "id": "Lo5Jl-txHNHX"
      },
      "cell_type": "markdown",
      "source": [
        "### Accuracy Check"
      ]
    },
    {
      "metadata": {
        "id": "9HxlxqLiDBLq"
      },
      "cell_type": "code",
      "source": [
        "test_dataloader = DataLoader(test_dataset,num_workers=6,batch_size=1,shuffle=True)\n",
        "accuracy=0\n",
        "counter=0\n",
        "correct=0\n",
        "for i, data in enumerate(test_dataloader,0): \n",
        "  x0, x1 , label = data\n",
        "  # onehsot applies in the output of 128 dense vectors which is then converted to 2 dense vectors\n",
        "  output1,output2 = model(x0.to(device),x1.to(device))\n",
        "  res=torch.abs(output1.cuda() - output2.cuda())\n",
        "  label=label[0].tolist()\n",
        "  label=int(label[0])\n",
        "  result=torch.max(res,1)[1][0][0][0].data[0].tolist()\n",
        "  if label == result:\n",
        "    correct=correct+1\n",
        "  counter=counter+1\n",
        "#   if counter ==20:\n",
        "#      break\n",
        "    \n",
        "accuracy=(correct/len(test_dataloader))*100\n",
        "print(\"Accuracy:{}%\".format(accuracy))"
      ],
      "execution_count": null,
      "outputs": []
    },
    {
      "metadata": {
        "id": "fvN310goHeAg"
      },
      "cell_type": "markdown",
      "source": [
        "## Final Touch "
      ]
    },
    {
      "metadata": {
        "id": "9xEpayRvH3Oe"
      },
      "cell_type": "markdown",
      "source": [
        "Thats it guys ! I am limited by time , computational power and knowledge .to get standard accuracy . But anyway this is the working code of Siamese Neural Network and you can try it for your own applications and dataset.\n",
        "\n",
        "Paper Reference: https://arxiv.org/pdf/1707.02131.pdf\n",
        "\n",
        "Thanks to Gupta Blog : https://hackernoon.com/one-shot-learning-with-siamese-networks-in-pytorch-8ddaab10340e"
      ]
    }
  ]
}